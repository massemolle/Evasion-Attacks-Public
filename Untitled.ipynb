{
  "nbformat": 4,
  "nbformat_minor": 0,
  "metadata": {
    "colab": {
      "provenance": [],
      "gpuType": "V28",
      "authorship_tag": "ABX9TyMWOkyJRrz/3g/0wwPxiYnV",
      "include_colab_link": true
    },
    "kernelspec": {
      "name": "python3",
      "display_name": "Python 3"
    },
    "language_info": {
      "name": "python"
    },
    "accelerator": "TPU"
  },
  "cells": [
    {
      "cell_type": "markdown",
      "metadata": {
        "id": "view-in-github",
        "colab_type": "text"
      },
      "source": [
        "<a href=\"https://colab.research.google.com/github/massemolle/Evasion-Attacks-Public/blob/main/Untitled.ipynb\" target=\"_parent\"><img src=\"https://colab.research.google.com/assets/colab-badge.svg\" alt=\"Open In Colab\"/></a>"
      ]
    },
    {
      "cell_type": "code",
      "execution_count": 2,
      "metadata": {
        "id": "Wfo-ubCOSH5s",
        "colab": {
          "base_uri": "https://localhost:8080/"
        },
        "outputId": "d23865b9-bd9a-4173-a6d7-b2079875261a"
      },
      "outputs": [
        {
          "output_type": "stream",
          "name": "stdout",
          "text": [
            "Requirement already satisfied: tensorflow in /usr/local/lib/python3.11/dist-packages (2.18.0)\n",
            "Requirement already satisfied: scikit-learn in /usr/local/lib/python3.11/dist-packages (1.6.1)\n",
            "Requirement already satisfied: matplotlib in /usr/local/lib/python3.11/dist-packages (3.10.0)\n",
            "Requirement already satisfied: absl-py>=1.0.0 in /usr/local/lib/python3.11/dist-packages (from tensorflow) (1.4.0)\n",
            "Requirement already satisfied: astunparse>=1.6.0 in /usr/local/lib/python3.11/dist-packages (from tensorflow) (1.6.3)\n",
            "Requirement already satisfied: flatbuffers>=24.3.25 in /usr/local/lib/python3.11/dist-packages (from tensorflow) (25.2.10)\n",
            "Requirement already satisfied: gast!=0.5.0,!=0.5.1,!=0.5.2,>=0.2.1 in /usr/local/lib/python3.11/dist-packages (from tensorflow) (0.6.0)\n",
            "Requirement already satisfied: google-pasta>=0.1.1 in /usr/local/lib/python3.11/dist-packages (from tensorflow) (0.2.0)\n",
            "Requirement already satisfied: libclang>=13.0.0 in /usr/local/lib/python3.11/dist-packages (from tensorflow) (18.1.1)\n",
            "Requirement already satisfied: opt-einsum>=2.3.2 in /usr/local/lib/python3.11/dist-packages (from tensorflow) (3.4.0)\n",
            "Requirement already satisfied: packaging in /usr/local/lib/python3.11/dist-packages (from tensorflow) (24.2)\n",
            "Requirement already satisfied: protobuf!=4.21.0,!=4.21.1,!=4.21.2,!=4.21.3,!=4.21.4,!=4.21.5,<6.0.0dev,>=3.20.3 in /usr/local/lib/python3.11/dist-packages (from tensorflow) (4.25.6)\n",
            "Requirement already satisfied: requests<3,>=2.21.0 in /usr/local/lib/python3.11/dist-packages (from tensorflow) (2.32.3)\n",
            "Requirement already satisfied: setuptools in /usr/local/lib/python3.11/dist-packages (from tensorflow) (75.1.0)\n",
            "Requirement already satisfied: six>=1.12.0 in /usr/local/lib/python3.11/dist-packages (from tensorflow) (1.17.0)\n",
            "Requirement already satisfied: termcolor>=1.1.0 in /usr/local/lib/python3.11/dist-packages (from tensorflow) (2.5.0)\n",
            "Requirement already satisfied: typing-extensions>=3.6.6 in /usr/local/lib/python3.11/dist-packages (from tensorflow) (4.12.2)\n",
            "Requirement already satisfied: wrapt>=1.11.0 in /usr/local/lib/python3.11/dist-packages (from tensorflow) (1.17.2)\n",
            "Requirement already satisfied: grpcio<2.0,>=1.24.3 in /usr/local/lib/python3.11/dist-packages (from tensorflow) (1.70.0)\n",
            "Requirement already satisfied: tensorboard<2.19,>=2.18 in /usr/local/lib/python3.11/dist-packages (from tensorflow) (2.18.0)\n",
            "Requirement already satisfied: keras>=3.5.0 in /usr/local/lib/python3.11/dist-packages (from tensorflow) (3.8.0)\n",
            "Requirement already satisfied: numpy<2.1.0,>=1.26.0 in /usr/local/lib/python3.11/dist-packages (from tensorflow) (1.26.4)\n",
            "Requirement already satisfied: h5py>=3.11.0 in /usr/local/lib/python3.11/dist-packages (from tensorflow) (3.12.1)\n",
            "Requirement already satisfied: ml-dtypes<0.5.0,>=0.4.0 in /usr/local/lib/python3.11/dist-packages (from tensorflow) (0.4.1)\n",
            "Requirement already satisfied: tensorflow-io-gcs-filesystem>=0.23.1 in /usr/local/lib/python3.11/dist-packages (from tensorflow) (0.37.1)\n",
            "Requirement already satisfied: scipy>=1.6.0 in /usr/local/lib/python3.11/dist-packages (from scikit-learn) (1.13.1)\n",
            "Requirement already satisfied: joblib>=1.2.0 in /usr/local/lib/python3.11/dist-packages (from scikit-learn) (1.4.2)\n",
            "Requirement already satisfied: threadpoolctl>=3.1.0 in /usr/local/lib/python3.11/dist-packages (from scikit-learn) (3.5.0)\n",
            "Requirement already satisfied: contourpy>=1.0.1 in /usr/local/lib/python3.11/dist-packages (from matplotlib) (1.3.1)\n",
            "Requirement already satisfied: cycler>=0.10 in /usr/local/lib/python3.11/dist-packages (from matplotlib) (0.12.1)\n",
            "Requirement already satisfied: fonttools>=4.22.0 in /usr/local/lib/python3.11/dist-packages (from matplotlib) (4.56.0)\n",
            "Requirement already satisfied: kiwisolver>=1.3.1 in /usr/local/lib/python3.11/dist-packages (from matplotlib) (1.4.8)\n",
            "Requirement already satisfied: pillow>=8 in /usr/local/lib/python3.11/dist-packages (from matplotlib) (11.1.0)\n",
            "Requirement already satisfied: pyparsing>=2.3.1 in /usr/local/lib/python3.11/dist-packages (from matplotlib) (3.2.1)\n",
            "Requirement already satisfied: python-dateutil>=2.7 in /usr/local/lib/python3.11/dist-packages (from matplotlib) (2.8.2)\n",
            "Requirement already satisfied: wheel<1.0,>=0.23.0 in /usr/local/lib/python3.11/dist-packages (from astunparse>=1.6.0->tensorflow) (0.45.1)\n",
            "Requirement already satisfied: rich in /usr/local/lib/python3.11/dist-packages (from keras>=3.5.0->tensorflow) (13.9.4)\n",
            "Requirement already satisfied: namex in /usr/local/lib/python3.11/dist-packages (from keras>=3.5.0->tensorflow) (0.0.8)\n",
            "Requirement already satisfied: optree in /usr/local/lib/python3.11/dist-packages (from keras>=3.5.0->tensorflow) (0.14.0)\n",
            "Requirement already satisfied: charset-normalizer<4,>=2 in /usr/local/lib/python3.11/dist-packages (from requests<3,>=2.21.0->tensorflow) (3.4.1)\n",
            "Requirement already satisfied: idna<4,>=2.5 in /usr/local/lib/python3.11/dist-packages (from requests<3,>=2.21.0->tensorflow) (3.10)\n",
            "Requirement already satisfied: urllib3<3,>=1.21.1 in /usr/local/lib/python3.11/dist-packages (from requests<3,>=2.21.0->tensorflow) (2.3.0)\n",
            "Requirement already satisfied: certifi>=2017.4.17 in /usr/local/lib/python3.11/dist-packages (from requests<3,>=2.21.0->tensorflow) (2025.1.31)\n",
            "Requirement already satisfied: markdown>=2.6.8 in /usr/local/lib/python3.11/dist-packages (from tensorboard<2.19,>=2.18->tensorflow) (3.7)\n",
            "Requirement already satisfied: tensorboard-data-server<0.8.0,>=0.7.0 in /usr/local/lib/python3.11/dist-packages (from tensorboard<2.19,>=2.18->tensorflow) (0.7.2)\n",
            "Requirement already satisfied: werkzeug>=1.0.1 in /usr/local/lib/python3.11/dist-packages (from tensorboard<2.19,>=2.18->tensorflow) (3.1.3)\n",
            "Requirement already satisfied: MarkupSafe>=2.1.1 in /usr/local/lib/python3.11/dist-packages (from werkzeug>=1.0.1->tensorboard<2.19,>=2.18->tensorflow) (3.0.2)\n",
            "Requirement already satisfied: markdown-it-py>=2.2.0 in /usr/local/lib/python3.11/dist-packages (from rich->keras>=3.5.0->tensorflow) (3.0.0)\n",
            "Requirement already satisfied: pygments<3.0.0,>=2.13.0 in /usr/local/lib/python3.11/dist-packages (from rich->keras>=3.5.0->tensorflow) (2.18.0)\n",
            "Requirement already satisfied: mdurl~=0.1 in /usr/local/lib/python3.11/dist-packages (from markdown-it-py>=2.2.0->rich->keras>=3.5.0->tensorflow) (0.1.2)\n",
            "Collecting git+https://github.com/Trusted-AI/adversarial-robustness-toolbox.git\n",
            "  Cloning https://github.com/Trusted-AI/adversarial-robustness-toolbox.git to /tmp/pip-req-build-ycfhcgh8\n",
            "  Running command git clone --filter=blob:none --quiet https://github.com/Trusted-AI/adversarial-robustness-toolbox.git /tmp/pip-req-build-ycfhcgh8\n",
            "  Resolved https://github.com/Trusted-AI/adversarial-robustness-toolbox.git to commit 88f7918bb10a03bb8b27cf6cce163d3707023d5b\n",
            "  Installing build dependencies ... \u001b[?25l\u001b[?25hdone\n",
            "  Getting requirements to build wheel ... \u001b[?25l\u001b[?25hdone\n",
            "  Preparing metadata (pyproject.toml) ... \u001b[?25l\u001b[?25hdone\n",
            "Requirement already satisfied: numpy>=1.18.0 in /usr/local/lib/python3.11/dist-packages (from adversarial-robustness-toolbox==1.19.1) (1.26.4)\n",
            "Requirement already satisfied: scipy>=1.4.1 in /usr/local/lib/python3.11/dist-packages (from adversarial-robustness-toolbox==1.19.1) (1.13.1)\n",
            "Requirement already satisfied: scikit-learn>=0.22.2 in /usr/local/lib/python3.11/dist-packages (from adversarial-robustness-toolbox==1.19.1) (1.6.1)\n",
            "Requirement already satisfied: six in /usr/local/lib/python3.11/dist-packages (from adversarial-robustness-toolbox==1.19.1) (1.17.0)\n",
            "Requirement already satisfied: setuptools in /usr/local/lib/python3.11/dist-packages (from adversarial-robustness-toolbox==1.19.1) (75.1.0)\n",
            "Requirement already satisfied: tqdm in /usr/local/lib/python3.11/dist-packages (from adversarial-robustness-toolbox==1.19.1) (4.67.1)\n",
            "Requirement already satisfied: joblib>=1.2.0 in /usr/local/lib/python3.11/dist-packages (from scikit-learn>=0.22.2->adversarial-robustness-toolbox==1.19.1) (1.4.2)\n",
            "Requirement already satisfied: threadpoolctl>=3.1.0 in /usr/local/lib/python3.11/dist-packages (from scikit-learn>=0.22.2->adversarial-robustness-toolbox==1.19.1) (3.5.0)\n",
            "Building wheels for collected packages: adversarial-robustness-toolbox\n",
            "  Building wheel for adversarial-robustness-toolbox (pyproject.toml) ... \u001b[?25l\u001b[?25hdone\n",
            "  Created wheel for adversarial-robustness-toolbox: filename=adversarial_robustness_toolbox-1.19.1-py3-none-any.whl size=1702079 sha256=1f3ddff3651f70f7e447297e64457586b6b36adfd4fdc6ebe396a7e49eb96038\n",
            "  Stored in directory: /tmp/pip-ephem-wheel-cache-qux0_j39/wheels/8d/1e/b8/b5096b5dd25b5f1a277b7bfdc2c3b9db281ff0a574d36e2fd2\n",
            "Successfully built adversarial-robustness-toolbox\n",
            "Installing collected packages: adversarial-robustness-toolbox\n",
            "Successfully installed adversarial-robustness-toolbox-1.19.1\n"
          ]
        }
      ],
      "source": [
        "!pip install tensorflow scikit-learn matplotlib\n",
        "!pip install git+https://github.com/Trusted-AI/adversarial-robustness-toolbox.git"
      ]
    },
    {
      "cell_type": "code",
      "source": [
        "!pip install virtualenv\n",
        "virtualenv tf1_env\n",
        "source tf1_env/bin/activate  # On Windows, use `tf1_env\\Scripts\\activate`\n",
        "!pip install tensorflow==1.15 adversarial-robustness-toolbox==1.6.0"
      ],
      "metadata": {
        "id": "6z1kn-RszHYV",
        "outputId": "12761877-9c30-4213-c22a-a05984e3dbe6",
        "colab": {
          "base_uri": "https://localhost:8080/",
          "height": 110
        }
      },
      "execution_count": 50,
      "outputs": [
        {
          "output_type": "error",
          "ename": "SyntaxError",
          "evalue": "invalid syntax (<ipython-input-50-d774ddc2b21b>, line 2)",
          "traceback": [
            "\u001b[0;36m  File \u001b[0;32m\"<ipython-input-50-d774ddc2b21b>\"\u001b[0;36m, line \u001b[0;32m2\u001b[0m\n\u001b[0;31m    virtualenv tf1_env\u001b[0m\n\u001b[0m               ^\u001b[0m\n\u001b[0;31mSyntaxError\u001b[0m\u001b[0;31m:\u001b[0m invalid syntax\n"
          ]
        }
      ]
    },
    {
      "cell_type": "markdown",
      "source": [
        "**Step 1** Fast Gradient attack(basic)"
      ],
      "metadata": {
        "id": "Ppsj4mr2Zupg"
      }
    },
    {
      "cell_type": "markdown",
      "source": [
        "Load the ResNet50 model"
      ],
      "metadata": {
        "id": "axsC6L9tXEjT"
      }
    },
    {
      "cell_type": "code",
      "source": [
        "import tensorflow as tf\n",
        "import numpy as np\n",
        "import matplotlib.pyplot as plt\n",
        "\n",
        "# Load CIFAR-10 dataset\n",
        "(x_train, y_train), (x_test, y_test) = tf.keras.datasets.cifar10.load_data()\n",
        "\n",
        "# CIFAR-10 class names\n",
        "class_names = ['airplane', 'automobile', 'bird', 'cat', 'deer', 'dog', 'frog', 'horse', 'ship', 'truck']\n",
        "\n",
        "# Visualize a few random images from the CIFAR-10 dataset\n",
        "def plot_images(images, labels, class_names, num_images=5):\n",
        "    plt.figure(figsize=(10, 10))\n",
        "    for i in range(num_images):\n",
        "        plt.subplot(1, num_images, i + 1)\n",
        "        plt.imshow(images[i])\n",
        "        plt.title(class_names[labels[i][0]])  # Correctly access the label\n",
        "        plt.axis('off')\n",
        "    plt.show()\n",
        "\n",
        "# Visualize 5 random images\n",
        "random_indices = np.random.choice(len(x_train), 5, replace=False)\n",
        "plot_images(x_train[random_indices], y_train[random_indices], class_names)\n"
      ],
      "metadata": {
        "id": "MJAqURRkUfV1"
      },
      "execution_count": null,
      "outputs": []
    },
    {
      "cell_type": "code",
      "source": [
        "\"\"\"import tensorflow as tf\n",
        "from tensorflow.keras.applications import ResNet50\n",
        "from tensorflow.keras.preprocessing import image\n",
        "import numpy as np\n",
        "import matplotlib.pyplot as plt\n",
        "\n",
        "# Load ResNet50 pretrained on ImageNet\n",
        "model = ResNet50(weights='imagenet')\n",
        "\n",
        "# Print model summary to confirm it's the ResNet50 model\n",
        "model.summary()\n",
        "\n",
        "# Optionally, save the model locally for reuse\n",
        "model.save('resnet50_model.keras')  # Save in the new Keras format\"\"\"\n",
        "\n"
      ],
      "metadata": {
        "id": "zHVsGjoDWlrM"
      },
      "execution_count": null,
      "outputs": []
    },
    {
      "cell_type": "markdown",
      "source": [
        "Preparing ImageNet"
      ],
      "metadata": {
        "id": "UzqRilcvJjav"
      }
    },
    {
      "cell_type": "code",
      "source": [
        "from tensorflow.keras.applications import ResNet50\n",
        "from tensorflow.keras import layers, models\n",
        "\n",
        "# Load the ResNet50 model pretrained on ImageNet\n",
        "model = ResNet50(weights='imagenet')\n",
        "\n",
        "# Print model summary to confirm it's the correct architecture\n",
        "model.summary()\n"
      ],
      "metadata": {
        "id": "H277dVVhUm2d"
      },
      "execution_count": null,
      "outputs": []
    },
    {
      "cell_type": "code",
      "source": [
        "\"\"\"import tensorflow_datasets as tfds\n",
        "\n",
        "# Load ImageNet from TensorFlow Datasets\n",
        "dataset, info = tfds.load('imagenet2012', with_info=True, as_supervised=True)\n",
        "\n",
        "# Split into train and test\n",
        "train_data, test_data = dataset['train'], dataset['validation']\n",
        "\n",
        "# Show dataset info\n",
        "print(info)\n",
        "\"\"\""
      ],
      "metadata": {
        "id": "Ppv6-hT7Jiso"
      },
      "execution_count": null,
      "outputs": []
    },
    {
      "cell_type": "markdown",
      "source": [
        "Saving and Reusing the Model"
      ],
      "metadata": {
        "id": "9L1fvA5KW9ta"
      }
    },
    {
      "cell_type": "code",
      "source": [
        "# Save the pretrained ResNet50 model\n",
        "#model.save('resnet50_pretrained_cifar100.h5')"
      ],
      "metadata": {
        "id": "WBo29V-sUr0b"
      },
      "execution_count": null,
      "outputs": []
    },
    {
      "cell_type": "code",
      "source": [
        "# Load the pretrained model from the saved file\n",
        "#model = tf.keras.models.load_model('resnet50_model.keras')"
      ],
      "metadata": {
        "id": "v50t6Gx2W8dg"
      },
      "execution_count": null,
      "outputs": []
    },
    {
      "cell_type": "markdown",
      "source": [
        "**STEP 2** Visualizing Dataset"
      ],
      "metadata": {
        "id": "UztUSy5OCfCt"
      }
    },
    {
      "cell_type": "code",
      "source": [
        "# Resize CIFAR-10 images to 224x224 for ResNet50 compatibility\n",
        "def preprocess_image(image):\n",
        "    image = tf.image.resize(image, (224, 224))  # Resize to 224x224\n",
        "    image = tf.cast(image, tf.float32)\n",
        "    image = tf.keras.applications.resnet50.preprocess_input(image)  # Normalize image to [-1, 1]\n",
        "    return image\n",
        "\n",
        "# Preprocess the entire CIFAR-10 dataset\n",
        "x_train_resized = tf.image.resize(x_train, (224, 224))\n",
        "x_test_resized = tf.image.resize(x_test, (224, 224))\n",
        "\n",
        "# Normalize the images for ResNet50\n",
        "x_train_resized = tf.keras.applications.resnet50.preprocess_input(x_train_resized)\n",
        "x_test_resized = tf.keras.applications.resnet50.preprocess_input(x_test_resized)\n",
        "\n"
      ],
      "metadata": {
        "id": "kti6qTqDJvHc"
      },
      "execution_count": null,
      "outputs": []
    },
    {
      "cell_type": "markdown",
      "source": [
        "Visualizing Dataset Images"
      ],
      "metadata": {
        "id": "AylU_1s1Cq63"
      }
    },
    {
      "cell_type": "markdown",
      "source": [
        "Visualizing Model Performance"
      ],
      "metadata": {
        "id": "f7peuVXUCxuv"
      }
    },
    {
      "cell_type": "code",
      "source": [
        "# If you're not training but just evaluating or running attacks:\n",
        "#model.evaluate(x_test, y_test)\n"
      ],
      "metadata": {
        "id": "tR4AluWSC0Sg"
      },
      "execution_count": null,
      "outputs": []
    },
    {
      "cell_type": "markdown",
      "source": [
        "**STEP 3:** Attacks"
      ],
      "metadata": {
        "id": "mFqDj1f9Zj04"
      }
    },
    {
      "cell_type": "markdown",
      "source": [
        "Fast Gradient Sign Method (FGSM)"
      ],
      "metadata": {
        "id": "GsVH9JI_DDr6"
      }
    },
    {
      "cell_type": "code",
      "source": [
        "import tensorflow.compat.v1 as tf\n",
        "from art.attacks.evasion import FastGradientMethod\n",
        "from art.estimators.classification import KerasClassifier\n",
        "import numpy as np\n",
        "import matplotlib.pyplot as plt\n",
        "\n",
        "# Disable eager execution for compatibility with ARToolbox\n",
        "tf.compat.v1.disable_eager_execution()\n",
        "tf.disable_v2_behavior()\n",
        "\n",
        "# Load ResNet50 model (pretrained on ImageNet)\n",
        "model = tf.keras.applications.ResNet50(weights='imagenet')\n",
        "\n",
        "# Manually set the loss function to categorical cross-entropy\n",
        "model.compile(optimizer='adam', loss='categorical_crossentropy', metrics=['accuracy'])\n",
        "\n",
        "# Convert model to ARToolbox KerasClassifier\n",
        "classifier = KerasClassifier(model=model)\n",
        "\n",
        "# Select a sample image from CIFAR-10 for the attack\n",
        "image = x_test_resized[0:1]  # Take the first image from the test set\n",
        "\n",
        "# Create the FGSM attack\n",
        "attack = FastGradientMethod(estimator=classifier, eps=0.1)\n",
        "\n",
        "# Generate adversarial image using FGSM\n",
        "perturbed_image = attack.generate(x=image)\n",
        "\n",
        "# Predict the class for the original and perturbed images\n",
        "original_pred = model.predict(image)\n",
        "perturbed_pred = model.predict(perturbed_image)\n",
        "\n",
        "# Display the original and perturbed images\n",
        "def plot_attack_results(original_image, perturbed_image, original_pred, perturbed_pred):\n",
        "    plt.figure(figsize=(10, 5))\n",
        "\n",
        "    # Plot original image\n",
        "    plt.subplot(1, 2, 1)\n",
        "    plt.imshow((original_image[0] + 1.0) / 2.0)  # Rescale to [0, 1]\n",
        "    plt.title(f\"Original Prediction: {np.argmax(original_pred)}\")\n",
        "    plt.axis('off')\n",
        "\n",
        "    # Plot perturbed image\n",
        "    plt.subplot(1, 2, 2)\n",
        "    plt.imshow((perturbed_image[0] + 1.0) / 2.0)  # Rescale to [0, 1]\n",
        "    plt.title(f\"Perturbed Prediction: {np.argmax(perturbed_pred)}\")\n",
        "    plt.axis('off')\n",
        "\n",
        "    plt.show()\n",
        "\n"
      ],
      "metadata": {
        "id": "H3zLbDAlZs7I"
      },
      "execution_count": null,
      "outputs": []
    },
    {
      "cell_type": "markdown",
      "source": [
        "Visualization of FGSM Attacks"
      ],
      "metadata": {
        "id": "UAJ25ntxHf_a"
      }
    },
    {
      "cell_type": "code",
      "source": [
        "# Visualize the attack\n",
        "original_pred = model.predict(preprocessed_image)\n",
        "plot_attack_results(preprocessed_image, perturbed_image, original_pred, perturbed_pred)"
      ],
      "metadata": {
        "id": "H7qteDW1HfNB"
      },
      "execution_count": null,
      "outputs": []
    },
    {
      "cell_type": "code",
      "source": [
        "!pip install foolbox\n"
      ],
      "metadata": {
        "id": "uWa_rSms5aoF",
        "outputId": "f6db399c-5b57-4e60-a268-1b93d716f837",
        "colab": {
          "base_uri": "https://localhost:8080/"
        }
      },
      "execution_count": 1,
      "outputs": [
        {
          "output_type": "stream",
          "name": "stdout",
          "text": [
            "Collecting foolbox\n",
            "  Downloading foolbox-3.3.4-py3-none-any.whl.metadata (7.3 kB)\n",
            "Requirement already satisfied: numpy in /usr/local/lib/python3.11/dist-packages (from foolbox) (1.26.4)\n",
            "Requirement already satisfied: scipy in /usr/local/lib/python3.11/dist-packages (from foolbox) (1.13.1)\n",
            "Requirement already satisfied: setuptools in /usr/local/lib/python3.11/dist-packages (from foolbox) (75.1.0)\n",
            "Collecting eagerpy>=0.30.0 (from foolbox)\n",
            "  Downloading eagerpy-0.30.0-py3-none-any.whl.metadata (5.5 kB)\n",
            "Requirement already satisfied: GitPython>=3.0.7 in /usr/local/lib/python3.11/dist-packages (from foolbox) (3.1.44)\n",
            "Requirement already satisfied: typing-extensions>=3.7.4.1 in /usr/local/lib/python3.11/dist-packages (from foolbox) (4.12.2)\n",
            "Requirement already satisfied: requests>=2.24.0 in /usr/local/lib/python3.11/dist-packages (from foolbox) (2.32.3)\n",
            "Requirement already satisfied: gitdb<5,>=4.0.1 in /usr/local/lib/python3.11/dist-packages (from GitPython>=3.0.7->foolbox) (4.0.12)\n",
            "Requirement already satisfied: charset-normalizer<4,>=2 in /usr/local/lib/python3.11/dist-packages (from requests>=2.24.0->foolbox) (3.4.1)\n",
            "Requirement already satisfied: idna<4,>=2.5 in /usr/local/lib/python3.11/dist-packages (from requests>=2.24.0->foolbox) (3.10)\n",
            "Requirement already satisfied: urllib3<3,>=1.21.1 in /usr/local/lib/python3.11/dist-packages (from requests>=2.24.0->foolbox) (2.3.0)\n",
            "Requirement already satisfied: certifi>=2017.4.17 in /usr/local/lib/python3.11/dist-packages (from requests>=2.24.0->foolbox) (2025.1.31)\n",
            "Requirement already satisfied: smmap<6,>=3.0.1 in /usr/local/lib/python3.11/dist-packages (from gitdb<5,>=4.0.1->GitPython>=3.0.7->foolbox) (5.0.2)\n",
            "Downloading foolbox-3.3.4-py3-none-any.whl (1.7 MB)\n",
            "\u001b[2K   \u001b[90m━━━━━━━━━━━━━━━━━━━━━━━━━━━━━━━━━━━━━━━━\u001b[0m \u001b[32m1.7/1.7 MB\u001b[0m \u001b[31m9.3 MB/s\u001b[0m eta \u001b[36m0:00:00\u001b[0m\n",
            "\u001b[?25hDownloading eagerpy-0.30.0-py3-none-any.whl (31 kB)\n",
            "Installing collected packages: eagerpy, foolbox\n",
            "Successfully installed eagerpy-0.30.0 foolbox-3.3.4\n"
          ]
        }
      ]
    },
    {
      "cell_type": "code",
      "source": [
        "import tensorflow as tf\n",
        "import numpy as np\n",
        "import matplotlib.pyplot as plt\n",
        "import foolbox as fb\n",
        "from tensorflow.keras.applications import ResNet50\n",
        "\n",
        "# Check if TensorFlow is running in eager mode (TensorFlow 2.x uses eager mode by default)\n",
        "if not tf.executing_eagerly():\n",
        "    raise ValueError(\"TensorFlow must be in eager execution mode\")\n",
        "\n",
        "# Load CIFAR-10 dataset\n",
        "(x_train, y_train), (x_test, y_test) = tf.keras.datasets.cifar10.load_data()\n",
        "\n",
        "# CIFAR-10 class names\n",
        "class_names = ['airplane', 'automobile', 'bird', 'cat', 'deer', 'dog', 'frog', 'horse', 'ship', 'truck']\n",
        "\n",
        "# Resize CIFAR-10 images to 224x224 for ResNet50 compatibility\n",
        "def preprocess_image(image):\n",
        "    image = tf.image.resize(image, (224, 224))  # Resize to 224x224\n",
        "    image = tf.cast(image, tf.float32)\n",
        "    image = tf.keras.applications.resnet50.preprocess_input(image)  # Normalize image to [-1, 1]\n",
        "    return image\n",
        "\n",
        "# Preprocess the entire CIFAR-10 dataset\n",
        "x_train_resized = tf.image.resize(x_train, (224, 224))\n",
        "x_test_resized = tf.image.resize(x_test, (224, 224))\n",
        "\n",
        "# Normalize the images for ResNet50\n",
        "x_train_resized = tf.keras.applications.resnet50.preprocess_input(x_train_resized)\n",
        "x_test_resized = tf.keras.applications.resnet50.preprocess_input(x_test_resized)\n",
        "\n",
        "# Load the ResNet50 model pretrained on ImageNet\n",
        "model = ResNet50(weights='imagenet')\n",
        "\n",
        "# Use Foolbox to wrap the model (the model should be in eager mode by default in TensorFlow 2.x)\n",
        "fmodel = fb.TensorFlowModel(model, bounds=(0, 255))\n",
        "\n",
        "# Choose an image from CIFAR-10 to apply the attack\n",
        "image = x_test_resized[0:1]\n",
        "label = y_test[0:1]\n",
        "\n",
        "# Create an FGSM attack using Foolbox\n",
        "attack = fb.attacks.FGSM()\n",
        "\n",
        "# Generate the adversarial image using the attack\n",
        "adversarial = attack(fmodel, image, label, epsilons=0.1)\n",
        "\n",
        "# Predict the class for the original and adversarial images\n",
        "original_pred = model.predict(image)\n",
        "perturbed_pred = model.predict(adversarial)\n",
        "\n",
        "# Display the original and perturbed images\n",
        "def plot_attack_results(original_image, perturbed_image, original_pred, perturbed_pred):\n",
        "    plt.figure(figsize=(10, 5))\n",
        "\n",
        "    # Plot original image\n",
        "    plt.subplot(1, 2, 1)\n",
        "    plt.imshow((original_image[0] + 1.0) / 2.0)  # Rescale to [0, 1]\n",
        "    plt.title(f\"Original Prediction: {np.argmax(original_pred)} ({class_names[np.argmax(original_pred)]})\")\n",
        "    plt.axis('off')\n",
        "\n",
        "    # Plot perturbed image\n",
        "    plt.subplot(1, 2, 2)\n",
        "    plt.imshow((perturbed_image[0] + 1.0) / 2.0)  # Rescale to [0, 1]\n",
        "    plt.title(f\"Perturbed Prediction: {np.argmax(perturbed_pred)} ({class_names[np.argmax(perturbed_pred)]})\")\n",
        "    plt.axis('off')\n",
        "\n",
        "    plt.show()\n",
        "\n",
        "# Visualize the attack results\n",
        "plot_attack_results(image, adversarial, original_pred, perturbed_pred)\n"
      ],
      "metadata": {
        "id": "nK4H98nf3Vsz",
        "outputId": "c5fd1bcd-b62b-442f-e78e-ea0a8d9845de",
        "colab": {
          "base_uri": "https://localhost:8080/"
        }
      },
      "execution_count": null,
      "outputs": [
        {
          "output_type": "stream",
          "name": "stdout",
          "text": [
            "Downloading data from https://www.cs.toronto.edu/~kriz/cifar-10-python.tar.gz\n",
            "\u001b[1m170498071/170498071\u001b[0m \u001b[32m━━━━━━━━━━━━━━━━━━━━\u001b[0m\u001b[37m\u001b[0m \u001b[1m4s\u001b[0m 0us/step\n"
          ]
        }
      ]
    }
  ]
}